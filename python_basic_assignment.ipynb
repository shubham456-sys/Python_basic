{
 "cells": [
  {
   "cell_type": "markdown",
   "id": "bbd6c329-6982-437a-aace-b8cafcca692b",
   "metadata": {},
   "source": [
    "Q1. Write all the conventions being followed while declaring a variable"
   ]
  },
  {
   "cell_type": "markdown",
   "id": "a08d13a7-2204-4dbe-b535-80e7c2fcc792",
   "metadata": {},
   "source": [
    "A variable can have a short name (like x and y) or a more descriptive name (age, carname, total_volume).\n",
    "\n",
    "Rules for Python variables:\n",
    "\n",
    "A variable name must start with a letter or the underscore character\n",
    "A variable name cannot start with a number\n",
    "A variable name can only contain alpha-numeric characters and underscores (A-z, 0-9, and _ )\n",
    "Variable names are case-sensitive (age, Age and AGE are three different variables)"
   ]
  },
  {
   "cell_type": "markdown",
   "id": "c59adf07-dd8f-4708-b52a-302a110972b4",
   "metadata": {},
   "source": [
    "Q2. What will happen if we declare a restricted keyword as a variable?"
   ]
  },
  {
   "cell_type": "code",
   "execution_count": 4,
   "id": "225e6367-2730-41df-8b3c-4dfdea642de1",
   "metadata": {},
   "outputs": [
    {
     "ename": "SyntaxError",
     "evalue": "invalid syntax (1042774091.py, line 1)",
     "output_type": "error",
     "traceback": [
      "\u001b[0;36m  Cell \u001b[0;32mIn[4], line 1\u001b[0;36m\u001b[0m\n\u001b[0;31m    assert=4\u001b[0m\n\u001b[0m          ^\u001b[0m\n\u001b[0;31mSyntaxError\u001b[0m\u001b[0;31m:\u001b[0m invalid syntax\n"
     ]
    }
   ],
   "source": [
    "assert=4"
   ]
  },
  {
   "cell_type": "markdown",
   "id": "21c9306e-6e86-4882-b313-55ae416ac8ca",
   "metadata": {},
   "source": [
    "we will got invalid syntax error "
   ]
  },
  {
   "cell_type": "markdown",
   "id": "0ae35ac5-cd24-429a-ac89-646e2e4b4c04",
   "metadata": {},
   "source": [
    "Q3. Can we actually declare a string as a variable name?"
   ]
  },
  {
   "cell_type": "code",
   "execution_count": 1,
   "id": "d08843b6-b72f-48b2-abd3-08d475d5d0cc",
   "metadata": {},
   "outputs": [],
   "source": [
    "shubham=5"
   ]
  },
  {
   "cell_type": "code",
   "execution_count": 2,
   "id": "a1ff3f10-83e7-4107-81e5-abbcf808cd8f",
   "metadata": {},
   "outputs": [
    {
     "data": {
      "text/plain": [
       "5"
      ]
     },
     "execution_count": 2,
     "metadata": {},
     "output_type": "execute_result"
    }
   ],
   "source": [
    "shubham"
   ]
  },
  {
   "cell_type": "markdown",
   "id": "837f4475-9caf-4b42-8f70-08c1ceecc554",
   "metadata": {},
   "source": [
    "yes"
   ]
  },
  {
   "cell_type": "markdown",
   "id": "e21e6706-e9de-4419-87bf-d435ecc660a8",
   "metadata": {},
   "source": [
    "Q4. Is it possible for us to declare “_” as a variable? If so, then write an example of it."
   ]
  },
  {
   "cell_type": "code",
   "execution_count": 4,
   "id": "9e80ea0a-f660-46da-8b93-c421dce865a3",
   "metadata": {},
   "outputs": [],
   "source": [
    "_ = 4"
   ]
  },
  {
   "cell_type": "code",
   "execution_count": 5,
   "id": "82139d1e-2b4b-442e-b20b-0538e8187e35",
   "metadata": {},
   "outputs": [
    {
     "data": {
      "text/plain": [
       "4"
      ]
     },
     "execution_count": 5,
     "metadata": {},
     "output_type": "execute_result"
    }
   ],
   "source": [
    "_"
   ]
  },
  {
   "cell_type": "markdown",
   "id": "c6054f60-79bc-47ef-b1c2-a316e30e35e3",
   "metadata": {},
   "source": [
    "yes"
   ]
  },
  {
   "cell_type": "markdown",
   "id": "3e61a7d5-7852-4ebf-8458-bbd915a7d2e3",
   "metadata": {},
   "source": [
    "Q5. Using an example, explain how the variables in python are dynamic in nature."
   ]
  },
  {
   "cell_type": "markdown",
   "id": "e3845c02-be0c-4d29-b72d-efbf6884e557",
   "metadata": {},
   "source": [
    "Python don't have any problem even if we don't declare the type of variable. It states the kind of variable in the runtime of the program. Python also take cares of the memory management which is crucial in programming. So, Python is a dynamically typed language"
   ]
  },
  {
   "cell_type": "code",
   "execution_count": 1,
   "id": "a4914888-611b-4be2-9068-cedb5139d250",
   "metadata": {},
   "outputs": [],
   "source": [
    "x = [1, 2, 3]\n"
   ]
  },
  {
   "cell_type": "code",
   "execution_count": 3,
   "id": "bc2f0771-e006-4844-a203-f41501883411",
   "metadata": {},
   "outputs": [
    {
     "data": {
      "text/plain": [
       "list"
      ]
     },
     "execution_count": 3,
     "metadata": {},
     "output_type": "execute_result"
    }
   ],
   "source": [
    "type(x)"
   ]
  },
  {
   "cell_type": "code",
   "execution_count": 4,
   "id": "61bdabbc-4234-4928-9bcf-d330db3e7ce4",
   "metadata": {},
   "outputs": [],
   "source": [
    "x = True"
   ]
  },
  {
   "cell_type": "code",
   "execution_count": 5,
   "id": "790ddc73-cd93-4eab-9138-a73ce92d7777",
   "metadata": {},
   "outputs": [
    {
     "data": {
      "text/plain": [
       "True"
      ]
     },
     "execution_count": 5,
     "metadata": {},
     "output_type": "execute_result"
    }
   ],
   "source": [
    "x"
   ]
  },
  {
   "cell_type": "code",
   "execution_count": 6,
   "id": "65661b37-ea68-4819-b02b-7bb565c1628b",
   "metadata": {},
   "outputs": [
    {
     "data": {
      "text/plain": [
       "bool"
      ]
     },
     "execution_count": 6,
     "metadata": {},
     "output_type": "execute_result"
    }
   ],
   "source": [
    "type(x)"
   ]
  },
  {
   "cell_type": "code",
   "execution_count": null,
   "id": "881c45eb-6613-4d4e-8f2d-d8d4f21c9309",
   "metadata": {},
   "outputs": [],
   "source": []
  }
 ],
 "metadata": {
  "kernelspec": {
   "display_name": "Python 3 (ipykernel)",
   "language": "python",
   "name": "python3"
  },
  "language_info": {
   "codemirror_mode": {
    "name": "ipython",
    "version": 3
   },
   "file_extension": ".py",
   "mimetype": "text/x-python",
   "name": "python",
   "nbconvert_exporter": "python",
   "pygments_lexer": "ipython3",
   "version": "3.10.8"
  }
 },
 "nbformat": 4,
 "nbformat_minor": 5
}
